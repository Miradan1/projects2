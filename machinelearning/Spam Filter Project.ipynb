{
 "cells": [
  {
   "cell_type": "markdown",
   "metadata": {},
   "source": [
    "# Final Project\n",
    "Prepared by:\n",
    "* Mira Dannawi\n",
    "\n",
    "\n",
    "\n",
    "For this project, we downloaded the SMS Spam Collection data set from:<br>\n",
    "https://archive.ics.uci.edu/ml/machine-learning-databases/00228/<br>\n",
    "and we want to build a Naivee Bayes spam filter."
   ]
  },
  {
   "cell_type": "code",
   "execution_count": 2,
   "metadata": {},
   "outputs": [
    {
     "name": "stdout",
     "output_type": "stream",
     "text": [
      "Populating the interactive namespace from numpy and matplotlib\n"
     ]
    }
   ],
   "source": [
    "import pandas as pd\n",
    "%pylab inline"
   ]
  },
  {
   "cell_type": "markdown",
   "metadata": {},
   "source": [
    "## Loading the data into a Python data frame"
   ]
  },
  {
   "cell_type": "markdown",
   "metadata": {},
   "source": [
    "The data was available in the format of text file, so we converted it into an excel file under the name of Group.xlsx"
   ]
  },
  {
   "cell_type": "code",
   "execution_count": 3,
   "metadata": {},
   "outputs": [],
   "source": [
    "data = pd.read_excel('Group.xlsx', header = None, names=['label','text'])"
   ]
  },
  {
   "cell_type": "markdown",
   "metadata": {},
   "source": [
    "#### Exploratory Data Analysis"
   ]
  },
  {
   "cell_type": "code",
   "execution_count": 4,
   "metadata": {},
   "outputs": [
    {
     "data": {
      "text/plain": [
       "(5572, 2)"
      ]
     },
     "execution_count": 4,
     "metadata": {},
     "output_type": "execute_result"
    }
   ],
   "source": [
    "data.shape"
   ]
  },
  {
   "cell_type": "code",
   "execution_count": 5,
   "metadata": {},
   "outputs": [
    {
     "data": {
      "text/html": [
       "<div>\n",
       "<style scoped>\n",
       "    .dataframe tbody tr th:only-of-type {\n",
       "        vertical-align: middle;\n",
       "    }\n",
       "\n",
       "    .dataframe tbody tr th {\n",
       "        vertical-align: top;\n",
       "    }\n",
       "\n",
       "    .dataframe thead th {\n",
       "        text-align: right;\n",
       "    }\n",
       "</style>\n",
       "<table border=\"1\" class=\"dataframe\">\n",
       "  <thead>\n",
       "    <tr style=\"text-align: right;\">\n",
       "      <th></th>\n",
       "      <th>label</th>\n",
       "      <th>text</th>\n",
       "    </tr>\n",
       "  </thead>\n",
       "  <tbody>\n",
       "    <tr>\n",
       "      <th>0</th>\n",
       "      <td>ham</td>\n",
       "      <td>Go until jurong point, crazy.. Available only ...</td>\n",
       "    </tr>\n",
       "    <tr>\n",
       "      <th>1</th>\n",
       "      <td>ham</td>\n",
       "      <td>Ok lar... Joking wif u oni...</td>\n",
       "    </tr>\n",
       "    <tr>\n",
       "      <th>2</th>\n",
       "      <td>spam</td>\n",
       "      <td>Free entry in 2 a wkly comp to win FA Cup fina...</td>\n",
       "    </tr>\n",
       "    <tr>\n",
       "      <th>3</th>\n",
       "      <td>ham</td>\n",
       "      <td>U dun say so early hor... U c already then say...</td>\n",
       "    </tr>\n",
       "    <tr>\n",
       "      <th>4</th>\n",
       "      <td>ham</td>\n",
       "      <td>Nah I don't think he goes to usf, he lives aro...</td>\n",
       "    </tr>\n",
       "  </tbody>\n",
       "</table>\n",
       "</div>"
      ],
      "text/plain": [
       "  label                                               text\n",
       "0   ham  Go until jurong point, crazy.. Available only ...\n",
       "1   ham                      Ok lar... Joking wif u oni...\n",
       "2  spam  Free entry in 2 a wkly comp to win FA Cup fina...\n",
       "3   ham  U dun say so early hor... U c already then say...\n",
       "4   ham  Nah I don't think he goes to usf, he lives aro..."
      ]
     },
     "execution_count": 5,
     "metadata": {},
     "output_type": "execute_result"
    }
   ],
   "source": [
    "data.head()"
   ]
  },
  {
   "cell_type": "code",
   "execution_count": 6,
   "metadata": {
    "scrolled": true
   },
   "outputs": [
    {
     "name": "stdout",
     "output_type": "stream",
     "text": [
      "<class 'pandas.core.frame.DataFrame'>\n",
      "RangeIndex: 5572 entries, 0 to 5571\n",
      "Data columns (total 2 columns):\n",
      "label    5572 non-null object\n",
      "text     5572 non-null object\n",
      "dtypes: object(2)\n",
      "memory usage: 87.1+ KB\n"
     ]
    }
   ],
   "source": [
    "data.info()"
   ]
  },
  {
   "cell_type": "code",
   "execution_count": 7,
   "metadata": {},
   "outputs": [
    {
     "name": "stdout",
     "output_type": "stream",
     "text": [
      "['ham' 'ham' 'spam' 'ham' 'ham']\n",
      "------------------------------------------------------------\n",
      "['Go until jurong point, crazy.. Available only in bugis n great world la e buffet... Cine there got amore wat...'\n",
      " 'Ok lar... Joking wif u oni...'\n",
      " \"Free entry in 2 a wkly comp to win FA Cup final tkts 21st May 2005. Text FA to 87121 to receive entry question(std txt rate)T&C's apply 08452810075over18's\"\n",
      " 'U dun say so early hor... U c already then say...'\n",
      " \"Nah I don't think he goes to usf, he lives around here though\"]\n"
     ]
    }
   ],
   "source": [
    "print(np.array(data.label[:5]))\n",
    "print('-'*60)\n",
    "print(np.array(data.text[:5]))"
   ]
  },
  {
   "cell_type": "markdown",
   "metadata": {},
   "source": [
    "## Preprocessing the SMS messages: Removing all punctuations and numbers from the SMS messages, and changing all messages to lowercase. "
   ]
  },
  {
   "cell_type": "code",
   "execution_count": 8,
   "metadata": {},
   "outputs": [],
   "source": [
    "# Pre-Processing\n",
    "\n",
    "# Making sure Python perceives our text messages as strings\n",
    "data.text = data.text.astype(str)\n",
    "\n",
    "# Removing punctuations\n",
    "from string import punctuation\n",
    "data.text = data.text.str.translate(str.maketrans('', '', punctuation))\n",
    "\n",
    "# Removing digits\n",
    "from string import digits\n",
    "data.text = data.text.str.translate(str.maketrans('', '', digits))\n",
    "\n",
    "# Changing all messages to lowercase\n",
    "data.text = data.text.str.lower()"
   ]
  },
  {
   "cell_type": "code",
   "execution_count": 9,
   "metadata": {},
   "outputs": [
    {
     "name": "stdout",
     "output_type": "stream",
     "text": [
      "['ham' 'ham' 'spam' 'ham' 'ham']\n",
      "------------------------------------------------------------\n",
      "['go until jurong point crazy available only in bugis n great world la e buffet cine there got amore wat'\n",
      " 'ok lar joking wif u oni'\n",
      " 'free entry in  a wkly comp to win fa cup final tkts st may  text fa to  to receive entry questionstd txt ratetcs apply overs'\n",
      " 'u dun say so early hor u c already then say'\n",
      " 'nah i dont think he goes to usf he lives around here though']\n"
     ]
    }
   ],
   "source": [
    "print(np.array(data.label[:5]))\n",
    "print('-'*60)\n",
    "print(np.array(data.text[:5]))"
   ]
  },
  {
   "cell_type": "markdown",
   "metadata": {},
   "source": [
    "## Shuffling the messages and splitting them into a training set (2500 messages), a validation set (1000 messages) and a test set (all remaining message)."
   ]
  },
  {
   "cell_type": "code",
   "execution_count": 10,
   "metadata": {},
   "outputs": [],
   "source": [
    "from sklearn.utils import shuffle #a function to shuffle the dataset\n",
    "\n",
    "# Shuffle the data. Notice how indices are not ordered anymore\n",
    "data = shuffle(data, random_state = 42)\n",
    "\n",
    "# Split the data\n",
    "\n",
    "train = data[:2500] #training data\n",
    "valid = data[2500:2500 + 1000] #validation data\n",
    "test = data[2500 + 1000:] #testing data"
   ]
  },
  {
   "cell_type": "markdown",
   "metadata": {},
   "source": [
    "## While Python's SciKit-Learn library has a Naive Bayes classifier, it works with continuous probability distributions and assumes numerical features. Although it is possible to transform categorical variables into numerical features using a binary encoding, we will instead build a simple Naive Bayes classifier from scratch:"
   ]
  },
  {
   "cell_type": "code",
   "execution_count": 11,
   "metadata": {},
   "outputs": [],
   "source": [
    "class NaiveBayesForSpam:\n",
    "    def train (self, hamMessages,spamMessages):\n",
    "        self.words = set(' '.join(hamMessages + spamMessages).split())\n",
    "        self.priors = np.zeros(2)\n",
    "        self.priors[0] = float(len(hamMessages)) / (len(hamMessages) + len(spamMessages))\n",
    "        self.priors[1] = 1.0 - self.priors[0]\n",
    "        self.likelihoods = []\n",
    "        \n",
    "        for i, w in enumerate(self.words):\n",
    "            prob1 = (1.0 + len([m for m in hamMessages if w in m])) / len(hamMessages)\n",
    "            prob2 = (1.0 + len([m for m in spamMessages if w in m])) / len(spamMessages)\n",
    "            self.likelihoods.append([min(prob1, 0.95), min(prob2, 0.95)])\n",
    "            \n",
    "        self.likelihoods = np.array(self.likelihoods).T\n",
    "        \n",
    "    def train2 (self, hamMessages, spamMessages):\n",
    "        self.words = set(' '.join(hamMessages + spamMessages).split())\n",
    "        self.priors = np.zeros(2)\n",
    "        self.priors[0] = float(len(hamMessages)) / (len(hamMessages) + len(spamMessages))\n",
    "        self.priors[1] = 1.0 - self.priors[0]\n",
    "        spamkeywords = []\n",
    "        self.likelihoods = []\n",
    "        \n",
    "        for i, w in enumerate(self.words):\n",
    "            prob1 = (1.0 + len([m for m in hamMessages if w in m])) / len(hamMessages)\n",
    "            prob2 = (1.0 + len([m for m in spamMessages if w in m])) / len(spamMessages)\n",
    "            if prob1 * 20 < prob2:\n",
    "                self.likelihoods.append([min(prob1, 0.95), min(prob2, 0.95)])\n",
    "                spamkeywords.append(w)\n",
    "        self.words = spamkeywords\n",
    "        self.likelihoods = np.array(self.likelihoods).T\n",
    "\n",
    "    def predict(self, message, thresh = 0.5):#we added a threshold parameter to use it later on when testing the function\n",
    "        posteriors = np.copy(self.priors)\n",
    "        \n",
    "        for i, w in enumerate(self.words):\n",
    "            if w in message.lower(): #convert to lowercase\n",
    "                posteriors *= self.likelihoods[:,i]\n",
    "            else:\n",
    "                posteriors *= np.ones (2) - self.likelihoods[:,i]\n",
    "            posteriors = posteriors / np.linalg.norm(posteriors, ord = 1) #normalize\n",
    "            \n",
    "        if posteriors[0] > thresh:\n",
    "            return ['ham', posteriors[0]]\n",
    "        return['spam', posteriors[1]]\n",
    "\n",
    "    def score(self, messages, labels, thresh = 0.5):#we added a threshold parameter to use it later on when testing the function\n",
    "        confusion = np.zeros(4).reshape(2,2)\n",
    "        for m, l in zip(messages, labels):\n",
    "            if self.predict(m, thresh)[0] == 'ham' and l == 'ham':\n",
    "                confusion[0,0] += 1\n",
    "            elif self.predict(m, thresh)[0] == 'ham' and l == 'spam':\n",
    "                confusion[0,1] += 1\n",
    "            elif self.predict(m, thresh)[0] == 'spam' and l == 'ham':\n",
    "                confusion[1,0] += 1\n",
    "            elif self.predict(m, thresh)[0] == 'spam' and l == 'spam':\n",
    "                confusion[1,1] += 1\n",
    "        return (confusion[0,0] + confusion[1,1]) / float(confusion.sum()), confusion\n",
    "    "
   ]
  },
  {
   "cell_type": "markdown",
   "metadata": {},
   "source": [
    "## What is the purpose of each function? What do ''train'' and ''train2'' do, and what is the difference between them? Where in the code is Bayes' Theorem being applied?"
   ]
  },
  {
   "cell_type": "markdown",
   "metadata": {},
   "source": [
    "NaiveBayesForSpam is a class, a classifier written to filter messages between \"spam\" messages and \"ham\" messages (not \"spam\"). NaiveBayesForSpam has four methods: \"train\", \"train2\", \"predict\", and \"score\".\n",
    "\n",
    "\"train\" and \"train2\" are two methods to train NaiveBayesForSpam for filtering messages. Training the classifier requires us to split our data (our messages) to two sets: a training set and a validation set. After training NaiveBayesForSpam with the training set, \"predict\" will predict whether a message in the validation set is \"ham\" or \"spam\".\n",
    "\n",
    "Given that this is a supervised learning and we already have labels for our sets (we already know which messages are \"spam\" and which are not), we would like to evaluate the classifier's performance, using the method \"score\". \"score\" generates a confision matrix: a 2x2 matrix that counts which \"spam\" and \"ham\" messages were predicted correctly, and which were not. Moreover, \"score\" will give us an accuracy score, which is the total number of all messages that were predicted correctly, divided by the total number of all messages, along with the false positives(ham messages classified as spam) and false negatives(spam messages classified as ham).\n",
    "\n",
    "<u>train:</u><br>\n",
    "\n",
    "* Split the training set into a ham list and a spam list\n",
    "\n",
    "* Join the ham and spam lists into a set called words\n",
    "\n",
    "* Create a set called \"priors\" of length 2. The first element is the prior probaibility of ham, and the second element is the prior probability of spam.\n",
    "\n",
    "* Initiate an array of likelihoods.\n",
    "\n",
    "* Loop over the set of words.\n",
    "\n",
    "* We compute the probability of the likelihood of observing w in hamMessages  +1 in order to prevent any 0 probability(laplace estimator)(P(w|ham)): posterior probability of w after observing hamMessages.\n",
    "\n",
    "* We compute the probability of the likelihood of observing w in spamMessages  +1 in order to prevent any 0 probability(laplace estimator)(P(w|ham)): posterior probability of w after observing spamMessages.\n",
    "\n",
    "* We append both probabilities of each word into the likelihoods set.\n",
    "<br>\n",
    "\n",
    "<u>train2:</u><br>\n",
    "* Split the training set into a ham list and a spam list\n",
    "\n",
    "* Join the ham and spam lists into a set called words\n",
    "\n",
    "* Create a set called \"priors\" of length 2. The first element is the prior probaibility of ham, and the second element is the prior probability of spam.\n",
    "\n",
    "* Initiate an array of likelihoods.\n",
    "\n",
    "* Initiate an array of spam keywords<br>\n",
    "\n",
    "* Loop over the set of words<br>\n",
    "\n",
    "* We compute the probability of the likelihood of observing w in hamMessages  +1 in order to prevent any 0 probability(laplace estimator)(P(w|ham)): posterior probability of w after observing hamMessages<br>\n",
    "\n",
    "* We compute the probability of the likelihood of observing w in spamMessages  +1 in order to prevent any 0 probability(laplace estimator)(P(w|ham)): posterior probability of w after observing spamMessages<br>\n",
    "\n",
    "* If probability of the occurance of the word in a ham message is less than 0.05 i.e approxiamtely 0 and is way less than the probability to occur in a spam message<br>\n",
    "\n",
    "* Then we append these probabilities into the likelihoods array with keeping the probabilities less than 0.95 to prevent any probability to be equal to 1(laplace estimator)<br>\n",
    "\n",
    "* Then we append the word to the spam keywords since it has shown a high probability to occur in spam messages<br>\n",
    "\n",
    "* We then assign to the words array the spamkeywords array<br>"
   ]
  },
  {
   "cell_type": "markdown",
   "metadata": {},
   "source": [
    "## Training the classifiers ''train'' and ''train2'' using the training set ."
   ]
  },
  {
   "cell_type": "code",
   "execution_count": 12,
   "metadata": {},
   "outputs": [],
   "source": [
    "# Split training texts between ham texts and spam texts\n",
    "train_ham_text = list(train[train['label'] == 'ham']['text'])\n",
    "train_spam_text = list(train[train['label'] == 'spam']['text'])\n",
    "valid_text = list(valid['text'])\n",
    "test_text = list(test['text'])"
   ]
  },
  {
   "cell_type": "code",
   "execution_count": 13,
   "metadata": {},
   "outputs": [],
   "source": [
    "# Initiate our class object.\n",
    "NB = NaiveBayesForSpam()\n",
    "NB2 = NaiveBayesForSpam() #to predict labels using \"train2\" instead of \"train\""
   ]
  },
  {
   "cell_type": "code",
   "execution_count": 14,
   "metadata": {},
   "outputs": [],
   "source": [
    "# Train our object, using \"train\" and \"train2\"\n",
    "NB.train(hamMessages = train_ham_text,spamMessages = train_spam_text)\n",
    "NB2.train2(hamMessages = train_ham_text,spamMessages = train_spam_text)"
   ]
  },
  {
   "cell_type": "markdown",
   "metadata": {},
   "source": [
    "## Using the validation set, we explore how each of the two classifiers performs out of sample."
   ]
  },
  {
   "cell_type": "code",
   "execution_count": 15,
   "metadata": {},
   "outputs": [
    {
     "name": "stdout",
     "output_type": "stream",
     "text": [
      "Confusion matrix: \n",
      "[[839.  15.]\n",
      " [ 15. 131.]]\n",
      "-----------------------------------\n",
      "Accuracy score:  0.97\n"
     ]
    }
   ],
   "source": [
    "import timeit\n",
    "start = timeit.default_timer()\n",
    "acc1, cmat1 = NB.score(valid_text, valid['label'])\n",
    "print(\"Confusion matrix: \")\n",
    "print(cmat1)\n",
    "print('-'*35)\n",
    "print(\"Accuracy score: \", acc1)"
   ]
  },
  {
   "cell_type": "code",
   "execution_count": 16,
   "metadata": {},
   "outputs": [
    {
     "name": "stdout",
     "output_type": "stream",
     "text": [
      "Time:  229.44  seconds\n"
     ]
    }
   ],
   "source": [
    "print(\"Time: \", round(timeit.default_timer()-start, 2),\" seconds\")"
   ]
  },
  {
   "cell_type": "code",
   "execution_count": 17,
   "metadata": {},
   "outputs": [
    {
     "name": "stdout",
     "output_type": "stream",
     "text": [
      "Confusion matrix: \n",
      "[[854.  32.]\n",
      " [  0. 114.]]\n",
      "-----------------------------------\n",
      "Accuracy score:  0.968\n"
     ]
    }
   ],
   "source": [
    "import timeit\n",
    "start = timeit.default_timer()\n",
    "acc2, cmat2 = NB2.score(valid_text, valid['label'])\n",
    "print(\"Confusion matrix: \")\n",
    "print(cmat2)\n",
    "print('-'*35)\n",
    "print(\"Accuracy score: \", acc2)"
   ]
  },
  {
   "cell_type": "code",
   "execution_count": 18,
   "metadata": {},
   "outputs": [
    {
     "name": "stdout",
     "output_type": "stream",
     "text": [
      "Time:  11.24  seconds\n"
     ]
    }
   ],
   "source": [
    "print(\"Time: \", round(timeit.default_timer()-start, 2),\" seconds\")"
   ]
  },
  {
   "cell_type": "markdown",
   "metadata": {},
   "source": [
    "## Why is the 'train2' classifier faster?"
   ]
  },
  {
   "cell_type": "markdown",
   "metadata": {},
   "source": [
    "Train2 classifier is much faster than the train classifier; it only needs 11 seconds to be executed compared to 229 seconds that train takes to operate. This is due to the fact that train2 only filters the spam words, and appends its posteriors probabilities to the likelihoods set while the train classifier appends the posterior probabilities of all of the words of the training set to the likelihoods set whether spam or ham. Therefore, the likelihoods set in train2 contains only the posteriors probabilities of  spam words of the training set, whereas the likelihoods set in train includes the posteriors probabilities of all of the ham and spam messages of the training set."
   ]
  },
  {
   "cell_type": "markdown",
   "metadata": {},
   "source": [
    "## How many false positives (ham messages classified as spam messages) is there in the validation set? How would the code be changed to reduce false positives at the expense of possibly having more false negatives (spam messages classified as ham messages)?"
   ]
  },
  {
   "cell_type": "code",
   "execution_count": 19,
   "metadata": {},
   "outputs": [
    {
     "data": {
      "text/plain": [
       "(0.97, array([[839.,  15.],\n",
       "        [ 15., 131.]]))"
      ]
     },
     "execution_count": 19,
     "metadata": {},
     "output_type": "execute_result"
    }
   ],
   "source": [
    "NB.score(valid_text, valid['label'], thresh = 0.8)"
   ]
  },
  {
   "cell_type": "code",
   "execution_count": 20,
   "metadata": {
    "scrolled": true
   },
   "outputs": [
    {
     "data": {
      "text/plain": [
       "(0.973, array([[843.,  16.],\n",
       "        [ 11., 130.]]))"
      ]
     },
     "execution_count": 20,
     "metadata": {},
     "output_type": "execute_result"
    }
   ],
   "source": [
    "NB.score(valid_text, valid['label'], thresh = 0.2)"
   ]
  },
  {
   "cell_type": "code",
   "execution_count": 21,
   "metadata": {},
   "outputs": [
    {
     "data": {
      "text/plain": [
       "(0.97, array([[839.,  15.],\n",
       "        [ 15., 131.]]))"
      ]
     },
     "execution_count": 21,
     "metadata": {},
     "output_type": "execute_result"
    }
   ],
   "source": [
    "NB.score(valid_text, valid['label'], thresh = 0.5)"
   ]
  },
  {
   "cell_type": "markdown",
   "metadata": {},
   "source": [
    "For the train classifier, by passing the arguments validation texts and validation labels to the score method, the confusion matrix that we have got above has shown that the false positives(ham messages classified as spam) equal 15 for a 0.5 threshold(default threshold).\n",
    "\n",
    "Likewise, for the train2 classifier, by passing the arguments validation texts and validation labels to the score method, we got false positives equal to 0.\n",
    "\n",
    "However, to reduce the false positives in the train classifier, one has to do little modifications at the level of the predict method; instead of checking if the posterior probability of ham is higher than 0.5(threshold),set it at a threshold lower than 0.5. One can check, by recording the fasle positives and the accuracy score at thresholds higher and lower than 0.5, that a threshold lower than 0.5 gives lower false positives and higher accuracy score(like a threshold of 0.2 gives 11 false positives and 0.973 accuracy score compared to 15 false positives and 0.97 accuracy score at 0.5). While a threshold higher than 0.5 has zero changes at the level of false positives and accuracy score as shown below (except when the threshold equals 0.9 where the false positives tend to increase and the accuracy score tends to decrease)"
   ]
  },
  {
   "cell_type": "raw",
   "metadata": {},
   "source": [
    "For the train classifier, by passing the arguments validation texts and validation labels to the score method, the confusion matrix that we have got above has shown that the false positives(ham messages classified as spam) equal 15 for a 0.5 threshold(default threshold).\n",
    "\n",
    "Likewise, for the train2 classifier, by passing the arguments validation texts and validation labels to the score method, we got false positives equal to 0.\n",
    "\n",
    "However, to reduce the false positives in the train classifier, one has to do little modifications at the level of the predict method; instead of checking if the posterior probability of ham is higher than 0.5(threshold),set it at a threshold lower than 0.5. One can check, by recording the fasle positives and the accuracy score at thresholds higher and lower than 0.5, that a threshold lower than 0.5 gives lower false positives and higher accuracy score(like a threshold of 0.2 gives 11 false positives and 0.973 accuracy score compared to 15 false positives and 0.97 accuracy score at 0.5). While a threshold higher than 0.5 has zero changes at the level of false positives and accuracy score as shown below (except when the threshold equals 0.9 where the false positives tend to increase and the accuracy score tends to decrease)"
   ]
  },
  {
   "cell_type": "code",
   "execution_count": 22,
   "metadata": {},
   "outputs": [
    {
     "name": "stdout",
     "output_type": "stream",
     "text": [
      "Threshold = 0.1\n",
      "Accuracy Score = 0.973\n",
      "Confusion Matrix:\n",
      "[[844.  17.]\n",
      " [ 10. 129.]]\n",
      "-----------------------\n",
      "Threshold = 0.2\n",
      "Accuracy Score = 0.973\n",
      "Confusion Matrix:\n",
      "[[843.  16.]\n",
      " [ 11. 130.]]\n",
      "-----------------------\n",
      "Threshold = 0.3\n",
      "Accuracy Score = 0.972\n",
      "Confusion Matrix:\n",
      "[[842.  16.]\n",
      " [ 12. 130.]]\n",
      "-----------------------\n",
      "Threshold = 0.4\n",
      "Accuracy Score = 0.972\n",
      "Confusion Matrix:\n",
      "[[841.  15.]\n",
      " [ 13. 131.]]\n",
      "-----------------------\n",
      "Threshold = 0.5\n",
      "Accuracy Score = 0.97\n",
      "Confusion Matrix:\n",
      "[[839.  15.]\n",
      " [ 15. 131.]]\n",
      "-----------------------\n",
      "Threshold = 0.6\n",
      "Accuracy Score = 0.97\n",
      "Confusion Matrix:\n",
      "[[839.  15.]\n",
      " [ 15. 131.]]\n",
      "-----------------------\n",
      "Threshold = 0.7\n",
      "Accuracy Score = 0.97\n",
      "Confusion Matrix:\n",
      "[[839.  15.]\n",
      " [ 15. 131.]]\n",
      "-----------------------\n",
      "Threshold = 0.8\n",
      "Accuracy Score = 0.97\n",
      "Confusion Matrix:\n",
      "[[839.  15.]\n",
      " [ 15. 131.]]\n",
      "-----------------------\n",
      "Threshold = 0.9\n",
      "Accuracy Score = 0.969\n",
      "Confusion Matrix:\n",
      "[[838.  15.]\n",
      " [ 16. 131.]]\n",
      "-----------------------\n"
     ]
    }
   ],
   "source": [
    "threshlist = []\n",
    "fplist = []\n",
    "for i in [s/10 for s in range(1,10)]:\n",
    "    acc, mat = NB.score(valid_text, valid['label'], thresh = i)\n",
    "    threshlist.append(i)\n",
    "    fplist.append(mat[1,0])\n",
    "    print(\"Threshold = {}\".format(i))\n",
    "    print(\"Accuracy Score = {}\".format(acc))\n",
    "    print(\"Confusion Matrix:\")\n",
    "    print(mat)\n",
    "    print(\"-\"*23)"
   ]
  },
  {
   "cell_type": "code",
   "execution_count": 23,
   "metadata": {},
   "outputs": [
    {
     "data": {
      "image/png": "[encoded data removed]",
      "text/plain": [
       "<Figure size 720x432 with 1 Axes>"
      ]
     },
     "metadata": {
      "needs_background": "light"
     },
     "output_type": "display_data"
    }
   ],
   "source": [
    "import matplotlib.pyplot as plt\n",
    "plt.figure(figsize = (10,6))\n",
    "plt.scatter(threshlist, fplist, color = 'blue', marker = 'x', s = 100)\n",
    "plt.title('Number of False Positives \\n', fontsize = 20)\n",
    "plt.xlabel('\\n Threshold', fontsize = 15)\n",
    "plt.xticks(threshlist, fontsize = 15)\n",
    "plt.yticks(fontsize = 15)\n",
    "plt.show()"
   ]
  },
  {
   "cell_type": "markdown",
   "metadata": {},
   "source": [
    "## Running the 'train2' classifier on the test set and reporting its performance using a confusion matrix."
   ]
  },
  {
   "cell_type": "code",
   "execution_count": 24,
   "metadata": {},
   "outputs": [
    {
     "name": "stdout",
     "output_type": "stream",
     "text": [
      "Confusion matrix: \n",
      "[[1786.   64.]\n",
      " [   4.  218.]]\n",
      "-----------------------------------\n",
      "Accuracy score:  0.9671814671814671\n"
     ]
    }
   ],
   "source": [
    "report = NB2.score(test_text, test['label'])\n",
    "print(\"Confusion matrix: \")\n",
    "print(report[1])\n",
    "print('-'*35)\n",
    "print(\"Accuracy score: \", report[0])"
   ]
  },
  {
   "cell_type": "code",
   "execution_count": 26,
   "metadata": {},
   "outputs": [
    {
     "data": {
      "image/png": "[encoded data removed]",
      "text/plain": [
       "<Figure size 432x288 with 2 Axes>"
      ]
     },
     "metadata": {
      "needs_background": "light"
     },
     "output_type": "display_data"
    }
   ],
   "source": [
    "from sklearn.metrics import confusion_matrix\n",
    "import itertools\n",
    "labels = ['ham', 'spam']\n",
    "cm = report[1]\n",
    "fig = plt.figure()\n",
    "ax = fig.add_subplot(111)\n",
    "cax = ax.matshow(cm)\n",
    "plt.title('Confusion matrix of the classifier \\n', fontsize = 20)\n",
    "fig.colorbar(cax)\n",
    "ax.set_xticklabels([''] + labels, fontsize = 15)\n",
    "ax.set_yticklabels([''] + labels, fontsize = 15)\n",
    "fmt = '.2f' \n",
    "thresh = cm.max() / 2.\n",
    "for i, j in itertools.product(range(cm.shape[0]), range(cm.shape[1])):\n",
    "    plt.text(j, i, format(cm[i, j], fmt),\n",
    "            horizontalalignment=\"center\",\n",
    "            color=\"black\" if cm[i, j] > thresh else \"white\", fontsize = 15)\n",
    "plt.xlabel('\\n True Labels', fontsize = 15)\n",
    "plt.ylabel('Predicted Labels', fontsize = 15)\n",
    "plt.show()"
   ]
  },
  {
   "cell_type": "code",
   "execution_count": null,
   "metadata": {},
   "outputs": [],
   "source": []
  }
 ],
 "metadata": {
  "kernelspec": {
   "display_name": "Python 3",
   "language": "python",
   "name": "python3"
  },
  "language_info": {
   "codemirror_mode": {
    "name": "ipython",
    "version": 3
   },
   "file_extension": ".py",
   "mimetype": "text/x-python",
   "name": "python",
   "nbconvert_exporter": "python",
   "pygments_lexer": "ipython3",
   "version": "3.8.5"
  }
 },
 "nbformat": 4,
 "nbformat_minor": 4
}
